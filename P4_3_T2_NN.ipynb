{
  "nbformat": 4,
  "nbformat_minor": 0,
  "metadata": {
    "colab": {
      "name": "T2_pregunta4.3.ipynb",
      "version": "0.3.2",
      "provenance": []
    },
    "kernelspec": {
      "name": "python3",
      "display_name": "Python 3"
    },
    "accelerator": "GPU"
  },
  "cells": [
    {
      "cell_type": "code",
      "metadata": {
        "id": "n9KCAG3BHUVz",
        "colab_type": "code",
        "colab": {}
      },
      "source": [
        "from keras.layers import Input,Conv2D,Flatten,Dense,MaxPool2D\n",
        "from keras.models import Model\n",
        "from keras.layers import Reshape,Conv2DTranspose,Activation\n",
        "import numpy as np\n",
        "from sklearn.metrics import normalized_mutual_info_score\n",
        "from keras.layers import Lambda\n",
        "import keras\n",
        "import keras.backend as K\n",
        "from keras.datasets import mnist\n",
        "from keras import backend as K \n",
        "import matplotlib.pyplot as plt\n",
        "(x_train, y_train), (x_test, y_test) = mnist.load_data()\n",
        "x_train = x_train[:,:,:,None] #add channels\n",
        "x_test = x_test[:,:,:,None]\n",
        "img_rows, img_cols,channel = x_train.shape[1:]\n",
        "original_img_size = (img_rows, img_cols,channel)"
      ],
      "execution_count": 0,
      "outputs": []
    },
    {
      "cell_type": "code",
      "metadata": {
        "id": "7Gxy8bliCjIX",
        "colab_type": "code",
        "colab": {}
      },
      "source": [
        "x_train = x_train.astype('float32') / 255. "
      ],
      "execution_count": 0,
      "outputs": []
    },
    {
      "cell_type": "markdown",
      "metadata": {
        "id": "8As6w0buzIna",
        "colab_type": "text"
      },
      "source": [
        "**a) En primer lugar deberá definir la arquitectura realizando unos cambios leves a la presentada anteriormente. Comente las diferencias sobre los parámetros obtenidos.**"
      ]
    },
    {
      "cell_type": "code",
      "metadata": {
        "id": "N4OnCx8szKFq",
        "colab_type": "code",
        "colab": {}
      },
      "source": [
        "filters = 32 # number of convolutional filters to use\n",
        "num_conv = 3 # convolution kernel size\n",
        "intermediate_dim = 128\n",
        "latent_dim = 10\n",
        "x = Input(shape=original_img_size)\n",
        "conv_1 = Conv2D(filters,kernel_size=num_conv,padding='same', activation='relu')(x)\n",
        "conv_2 = Conv2D(filters,kernel_size=num_conv,padding='same', activation='relu')(conv_1)\n",
        "conv_3 = Conv2D(filters*2, kernel_size=num_conv, padding='same', activation='relu', strides=2)(conv_2)\n",
        "flat = Flatten()(conv_3)\n",
        "hidden = Dense(intermediate_dim, activation='relu')(flat)\n",
        "z_mean = Dense(latent_dim,activation='linear')(hidden)\n",
        "z_log_var = Dense(latent_dim,activation='linear')(hidden)\n",
        "logits_z = Dense(latent_dim,activation='linear')(hidden) #log(p(z))\n",
        "encoder = Model(x, logits_z) # build a model to project inputs on the latent space\n"
      ],
      "execution_count": 0,
      "outputs": []
    },
    {
      "cell_type": "code",
      "metadata": {
        "id": "HwJYNc9kzVSh",
        "colab_type": "code",
        "colab": {}
      },
      "source": [
        "shape_before_flattening = K.int_shape(conv_3)[1:] # we instantiate these layers separately to reuse them later\n",
        "decoder_hid = Dense(intermediate_dim, activation='relu')\n",
        "decoder_upsample = Dense(np.prod(shape_before_flattening), activation='relu')\n",
        "decoder_reshape = Reshape(shape_before_flattening)\n",
        "decoder_deconv_1 = Conv2DTranspose(filters,kernel_size=num_conv, padding='same',strides=2,activation='relu')\n",
        "decoder_deconv_2 = Conv2DTranspose(filters,kernel_size=num_conv,padding='same', activation='relu')\n",
        "decoder_mean_squash = Conv2DTranspose(channel, kernel_size=num_conv,padding='same', activation='sigmoid')\n"
      ],
      "execution_count": 0,
      "outputs": []
    },
    {
      "cell_type": "code",
      "metadata": {
        "id": "iFJko2sNzWAu",
        "colab_type": "code",
        "outputId": "6e77daf4-42fd-4402-a32c-a61254b58fa8",
        "colab": {
          "base_uri": "https://localhost:8080/",
          "height": 74
        }
      },
      "source": [
        "def sample_gumbel(shape,eps=K.epsilon()):\n",
        "    \"\"\"Inverse Sample function from Gumbel(0, 1)\"\"\"\n",
        "    U = K.random_uniform(shape, 0, 1)\n",
        "    return - K.log( -K.log(U + eps) + eps)\n",
        "\n",
        "def sampling(logits_z):\n",
        "    \"\"\" Perform a Gumbel-Softmax sampling\"\"\"\n",
        "    tau = K.variable(2/3, name=\"temperature\") \n",
        "    z = logits_z + sample_gumbel(K.shape(logits_z)) # logits + gumbel noise\n",
        "    return keras.activations.softmax( z/tau )    \n",
        "\n",
        "z = Lambda(sampling, output_shape=(latent_dim,))(logits_z)\n",
        "\n",
        "hid_decoded = decoder_hid(z)\n",
        "up_decoded = decoder_upsample(hid_decoded)\n",
        "reshape_decoded =  decoder_reshape(up_decoded)\n",
        "deconv_1_decoded = decoder_deconv_1(reshape_decoded)\n",
        "x_decoded_relu = decoder_deconv_2(deconv_1_decoded)\n",
        "x_decoded_mean_squash = decoder_mean_squash(x_decoded_relu)\n",
        "vae_norm = Model(x, x_decoded_mean_squash) # instantiate VAE model"
      ],
      "execution_count": 0,
      "outputs": [
        {
          "output_type": "stream",
          "text": [
            "W0806 01:10:23.242040 140327751669632 deprecation_wrapper.py:119] From /usr/local/lib/python3.6/dist-packages/keras/backend/tensorflow_backend.py:1521: The name tf.log is deprecated. Please use tf.math.log instead.\n",
            "\n"
          ],
          "name": "stderr"
        }
      ]
    },
    {
      "cell_type": "code",
      "metadata": {
        "id": "ukC-lViJ5mi8",
        "colab_type": "code",
        "outputId": "a2cdbd0a-cb45-4411-9121-d03770fcf41f",
        "colab": {
          "base_uri": "https://localhost:8080/",
          "height": 735
        }
      },
      "source": [
        "# Compute VAE loss\n",
        "choised_loss =  keras.metrics.binary_crossentropy(K.flatten(x),K.flatten(x_decoded_mean_squash))\n",
        "choised_loss =  keras.metrics.mean_squared_error(K.flatten(x),K.flatten(x_decoded_mean_squash))\n",
        "reconstruction_loss = img_rows * img_cols * channel* choised_loss\n",
        "kl_loss = - 0.5 * K.sum(1 + z_log_var - K.square(z_mean) - K.exp(z_log_var), axis=-1) #closed form\n",
        "dist =  keras.activations.softmax(logits_z) # =p(z)\n",
        "dist_neg_entropy = K.sum(dist * K.log(dist + K.epsilon()), axis=1)\n",
        "kl_disc_loss =  np.log(latent_dim) + dist_neg_entropy #discrete KL-loss\n",
        "vae_loss = K.mean(reconstruction_loss + kl_disc_loss)\n",
        "vae_norm.add_loss(vae_loss)\n",
        "vae_norm.summary()"
      ],
      "execution_count": 0,
      "outputs": [
        {
          "output_type": "stream",
          "text": [
            "W0806 01:10:28.296645 140327751669632 deprecation.py:323] From /usr/local/lib/python3.6/dist-packages/tensorflow/python/ops/nn_impl.py:180: add_dispatch_support.<locals>.wrapper (from tensorflow.python.ops.array_ops) is deprecated and will be removed in a future version.\n",
            "Instructions for updating:\n",
            "Use tf.where in 2.0, which has the same broadcast rule as np.where\n"
          ],
          "name": "stderr"
        },
        {
          "output_type": "stream",
          "text": [
            "_________________________________________________________________\n",
            "Layer (type)                 Output Shape              Param #   \n",
            "=================================================================\n",
            "input_2 (InputLayer)         (None, 28, 28, 1)         0         \n",
            "_________________________________________________________________\n",
            "conv2d_4 (Conv2D)            (None, 28, 28, 32)        320       \n",
            "_________________________________________________________________\n",
            "conv2d_5 (Conv2D)            (None, 28, 28, 32)        9248      \n",
            "_________________________________________________________________\n",
            "conv2d_6 (Conv2D)            (None, 14, 14, 64)        18496     \n",
            "_________________________________________________________________\n",
            "flatten_2 (Flatten)          (None, 12544)             0         \n",
            "_________________________________________________________________\n",
            "dense_5 (Dense)              (None, 128)               1605760   \n",
            "_________________________________________________________________\n",
            "dense_8 (Dense)              (None, 10)                1290      \n",
            "_________________________________________________________________\n",
            "lambda_1 (Lambda)            (None, 10)                0         \n",
            "_________________________________________________________________\n",
            "dense_9 (Dense)              (None, 128)               1408      \n",
            "_________________________________________________________________\n",
            "dense_10 (Dense)             (None, 12544)             1618176   \n",
            "_________________________________________________________________\n",
            "reshape_1 (Reshape)          (None, 14, 14, 64)        0         \n",
            "_________________________________________________________________\n",
            "conv2d_transpose_1 (Conv2DTr (None, 28, 28, 32)        18464     \n",
            "_________________________________________________________________\n",
            "conv2d_transpose_2 (Conv2DTr (None, 28, 28, 32)        9248      \n",
            "_________________________________________________________________\n",
            "conv2d_transpose_3 (Conv2DTr (None, 28, 28, 1)         289       \n",
            "=================================================================\n",
            "Total params: 3,282,699\n",
            "Trainable params: 3,282,699\n",
            "Non-trainable params: 0\n",
            "_________________________________________________________________\n"
          ],
          "name": "stdout"
        }
      ]
    },
    {
      "cell_type": "markdown",
      "metadata": {
        "id": "7rQRRvAb4pgE",
        "colab_type": "text"
      },
      "source": [
        "**b) Entrene el VAE categórico de la misma manera que realizó con el VAE tradicional en (e) ¿Nota algún cambio en este paso?.**"
      ]
    },
    {
      "cell_type": "code",
      "metadata": {
        "id": "Cbv-ZnDK4tUF",
        "colab_type": "code",
        "outputId": "ac031da9-e275-45a2-cce7-93f1f0cd97f6",
        "colab": {
          "base_uri": "https://localhost:8080/",
          "height": 1000
        }
      },
      "source": [
        "batch_size = 64\n",
        "epochs = 30\n",
        "vae_norm.compile(optimizer='rmsprop')\n",
        "h = vae_norm.fit(x_train, epochs=epochs, batch_size=batch_size,validation_data=(x_test, None))"
      ],
      "execution_count": 0,
      "outputs": [
        {
          "output_type": "stream",
          "text": [
            "W0802 15:15:11.585612 140301506402176 deprecation_wrapper.py:119] From /usr/local/lib/python3.6/dist-packages/keras/optimizers.py:790: The name tf.train.Optimizer is deprecated. Please use tf.compat.v1.train.Optimizer instead.\n",
            "\n",
            "W0802 15:15:11.829242 140301506402176 deprecation_wrapper.py:119] From /usr/local/lib/python3.6/dist-packages/keras/backend/tensorflow_backend.py:986: The name tf.assign_add is deprecated. Please use tf.compat.v1.assign_add instead.\n",
            "\n"
          ],
          "name": "stderr"
        },
        {
          "output_type": "stream",
          "text": [
            "Train on 60000 samples, validate on 10000 samples\n",
            "Epoch 1/30\n",
            "60000/60000 [==============================] - 19s 313us/step - loss: 43.8141 - val_loss: 5785789.3080\n",
            "Epoch 2/30\n",
            "60000/60000 [==============================] - 11s 189us/step - loss: 38.2086 - val_loss: 5785515.0320\n",
            "Epoch 3/30\n",
            "60000/60000 [==============================] - 11s 190us/step - loss: 35.7010 - val_loss: 5782965.5608\n",
            "Epoch 4/30\n",
            "60000/60000 [==============================] - 11s 191us/step - loss: 34.0495 - val_loss: 5781536.4800\n",
            "Epoch 5/30\n",
            "60000/60000 [==============================] - 11s 191us/step - loss: 33.0397 - val_loss: 5784029.5888\n",
            "Epoch 6/30\n",
            "60000/60000 [==============================] - 11s 190us/step - loss: 32.2743 - val_loss: 5783655.5648\n",
            "Epoch 7/30\n",
            "60000/60000 [==============================] - 11s 190us/step - loss: 31.6754 - val_loss: 5781435.7768\n",
            "Epoch 8/30\n",
            "60000/60000 [==============================] - 11s 190us/step - loss: 31.2031 - val_loss: 5783203.9144\n",
            "Epoch 9/30\n",
            "60000/60000 [==============================] - 11s 190us/step - loss: 30.7780 - val_loss: 5782170.5864\n",
            "Epoch 10/30\n",
            "60000/60000 [==============================] - 11s 190us/step - loss: 30.4254 - val_loss: 5785808.8576\n",
            "Epoch 11/30\n",
            "60000/60000 [==============================] - 11s 189us/step - loss: 30.1276 - val_loss: 5783609.0320\n",
            "Epoch 12/30\n",
            "60000/60000 [==============================] - 11s 189us/step - loss: 29.8956 - val_loss: 5783863.8480\n",
            "Epoch 13/30\n",
            "60000/60000 [==============================] - 12s 192us/step - loss: 29.6862 - val_loss: 5786105.2240\n",
            "Epoch 14/30\n",
            "60000/60000 [==============================] - 11s 190us/step - loss: 29.4669 - val_loss: 5784411.6056\n",
            "Epoch 15/30\n",
            "60000/60000 [==============================] - 11s 189us/step - loss: 29.2045 - val_loss: 5782596.1168\n",
            "Epoch 16/30\n",
            "60000/60000 [==============================] - 11s 189us/step - loss: 28.9801 - val_loss: 5788558.7344\n",
            "Epoch 17/30\n",
            "60000/60000 [==============================] - 11s 189us/step - loss: 28.7983 - val_loss: 5787164.6504\n",
            "Epoch 18/30\n",
            "60000/60000 [==============================] - 11s 189us/step - loss: 28.6241 - val_loss: 5786364.8152\n",
            "Epoch 19/30\n",
            "60000/60000 [==============================] - 11s 190us/step - loss: 28.4031 - val_loss: 5786245.9576\n",
            "Epoch 20/30\n",
            "60000/60000 [==============================] - 11s 189us/step - loss: 28.2887 - val_loss: 5787941.4320\n",
            "Epoch 21/30\n",
            "60000/60000 [==============================] - 11s 190us/step - loss: 28.1054 - val_loss: 5786239.7752\n",
            "Epoch 22/30\n",
            "60000/60000 [==============================] - 11s 189us/step - loss: 27.9657 - val_loss: 5787690.1808\n",
            "Epoch 23/30\n",
            "60000/60000 [==============================] - 11s 189us/step - loss: 27.8825 - val_loss: 5786296.2416\n",
            "Epoch 24/30\n",
            "60000/60000 [==============================] - 11s 189us/step - loss: 27.7347 - val_loss: 5791124.7352\n",
            "Epoch 25/30\n",
            "60000/60000 [==============================] - 11s 189us/step - loss: 27.6752 - val_loss: 5788415.9296\n",
            "Epoch 26/30\n",
            "60000/60000 [==============================] - 11s 189us/step - loss: 27.6049 - val_loss: 5791234.6072\n",
            "Epoch 27/30\n",
            "60000/60000 [==============================] - 11s 189us/step - loss: 27.4643 - val_loss: 5788133.4456\n",
            "Epoch 28/30\n",
            "60000/60000 [==============================] - 11s 190us/step - loss: 27.3830 - val_loss: 5788319.9872\n",
            "Epoch 29/30\n",
            "60000/60000 [==============================] - 11s 189us/step - loss: 27.2718 - val_loss: 5786906.2248\n",
            "Epoch 30/30\n",
            "60000/60000 [==============================] - 11s 189us/step - loss: 27.1669 - val_loss: 5790206.0624\n"
          ],
          "name": "stdout"
        },
        {
          "output_type": "execute_result",
          "data": {
            "text/plain": [
              "<keras.callbacks.History at 0x7f9a32016f98>"
            ]
          },
          "metadata": {
            "tags": []
          },
          "execution_count": 8
        }
      ]
    },
    {
      "cell_type": "markdown",
      "metadata": {
        "id": "xwD4GjVl7ftf",
        "colab_type": "text"
      },
      "source": [
        "**c) Para ver la efectividad del encoder en lograr capturar las clases es necesario medir una métrica de desempeño, sin embargo, las métricas clásicas como accuracy o f1 score no corresponderían a este caso debido a que las categoría capturada por el encoder no debería estar en el mismo orden de la clase real, ya que fue un entrenamiento no supervisado ¿Cómo se podría cambiar ésto?. Con esto en mente mida alguna métrica de clustering [11] sobre las categorías inferidas por el VAE. Comente.\n",
        "Recuerde que se predice los logits de la probabilidad**"
      ]
    },
    {
      "cell_type": "code",
      "metadata": {
        "id": "LgX955_O7vXx",
        "colab_type": "code",
        "outputId": "e452e27b-40ea-4807-c02a-04e5185f72cb",
        "colab": {
          "base_uri": "https://localhost:8080/",
          "height": 147
        }
      },
      "source": [
        "def softmax(x):\n",
        "    \"\"\"Compute softmax values for each sets of scores in x.\"\"\"\n",
        "    e_x = np.exp(x - x.max(axis=-1,keepdims=True) )\n",
        "    return e_x / e_x.sum(axis=-1, keepdims=True)\n",
        "\n",
        "p_z_train = softmax(encoder.predict(x_train))\n",
        "p_z_test = softmax(encoder.predict(x_test))\n",
        "y_train_pred = p_z_train.argmax(axis=-1)\n",
        "y_test_pred = p_z_test.argmax(axis=-1)\n",
        "\n",
        "\n",
        "print(normalized_mutual_info_score(y_train, y_train_pred))\n",
        "print(normalized_mutual_info_score(y_test, y_test_pred))"
      ],
      "execution_count": 0,
      "outputs": [
        {
          "output_type": "stream",
          "text": [
            "0.2840687496863312\n",
            "0.2933177702860208\n"
          ],
          "name": "stdout"
        },
        {
          "output_type": "stream",
          "text": [
            "/usr/local/lib/python3.6/dist-packages/sklearn/metrics/cluster/supervised.py:859: FutureWarning: The behavior of NMI will change in version 0.22. To match the behavior of 'v_measure_score', NMI will use average_method='arithmetic' by default.\n",
            "  FutureWarning)\n",
            "/usr/local/lib/python3.6/dist-packages/sklearn/metrics/cluster/supervised.py:859: FutureWarning: The behavior of NMI will change in version 0.22. To match the behavior of 'v_measure_score', NMI will use average_method='arithmetic' by default.\n",
            "  FutureWarning)\n"
          ],
          "name": "stderr"
        }
      ]
    },
    {
      "cell_type": "markdown",
      "metadata": {
        "id": "J6irVTVf73WL",
        "colab_type": "text"
      },
      "source": [
        "**d) Para entender mejor las categorías inferidas por el VAE genere datos \"activando\" una categoría y luego realizando un forward pass sobre el decoder/generador. Comente cualitativamente.**"
      ]
    },
    {
      "cell_type": "code",
      "metadata": {
        "id": "62jdRnAD724x",
        "colab_type": "code",
        "outputId": "8d0ba9b9-bf90-4007-92d2-5209f56bce59",
        "colab": {
          "base_uri": "https://localhost:8080/",
          "height": 107
        }
      },
      "source": [
        "decoder_input = Input(shape=(latent_dim,))\n",
        "_hid_decoded = decoder_hid(decoder_input)\n",
        "_up_decoded = decoder_upsample(_hid_decoded)\n",
        "_reshape_decoded = decoder_reshape(_up_decoded)\n",
        "_deconv_1_decoded = decoder_deconv_1(_reshape_decoded)\n",
        "_x_decoded_relu = decoder_deconv_2(_deconv_1_decoded)\n",
        "_x_decoded_mean_squash = decoder_mean_squash(_x_decoded_relu)\n",
        "generator = Model(decoder_input, _x_decoded_mean_squash) \n",
        "predictions =np.zeros((img_cols * 1 ,img_cols* latent_dim))\n",
        "\n",
        "for i in range(latent_dim):\n",
        "    activate_aux = np.zeros((1,10))\n",
        "    activate_aux[:,i] = 1 #activate a class\n",
        "    predictions[:,i * img_cols:(i + 1) * img_cols] = np.squeeze(generator.predict(activate_aux))\n",
        "    \n",
        "\n",
        "plt.figure(figsize=(10, 10))\n",
        "plt.imshow(predictions, cmap='gnuplot2')\n",
        "pos = np.arange(img_cols/2, img_cols*latent_dim, img_cols)\n",
        "plt.xticks(pos,range(latent_dim))\n",
        "plt.show()"
      ],
      "execution_count": 0,
      "outputs": [
        {
          "output_type": "display_data",
          "data": {
            "image/png": "[encoded data removed]",
            "text/plain": [
              "<Figure size 720x720 with 1 Axes>"
            ]
          },
          "metadata": {
            "tags": []
          }
        }
      ]
    },
    {
      "cell_type": "markdown",
      "metadata": {
        "id": "iTkKfwJp8NbW",
        "colab_type": "text"
      },
      "source": [
        "**e) Genere algunas imágenes aleatorias, comente cualitativamente con lo obtenido con el VAE tradicional ¿Cuál pareciera ser mejor para generar datos? ¿Por qué?**"
      ]
    },
    {
      "cell_type": "code",
      "metadata": {
        "id": "ffM4dS6W8QKY",
        "colab_type": "code",
        "outputId": "5c8c79e7-d9dc-4eab-b8d4-2da859cae427",
        "colab": {
          "base_uri": "https://localhost:8080/",
          "height": 398
        }
      },
      "source": [
        "decoder_input = Input(shape=(latent_dim,))\n",
        "_hid_decoded = decoder_hid(decoder_input)\n",
        "_up_decoded = decoder_upsample(_hid_decoded)\n",
        "_reshape_decoded = decoder_reshape(_up_decoded)\n",
        "_deconv_1_decoded = decoder_deconv_1(_reshape_decoded)\n",
        "_x_decoded_relu = decoder_deconv_2(_deconv_1_decoded)\n",
        "_x_decoded_mean_squash = decoder_mean_squash(_x_decoded_relu)\n",
        "generator = Model(decoder_input, _x_decoded_mean_squash) \n",
        "\n",
        "n = 30  # figure with 15x15 images \n",
        "image_size = img_cols\n",
        "figure = np.zeros((image_size * n, image_size * n))\n",
        "from scipy.stats import norm\n",
        "grid_x = norm.ppf(np.linspace(0.05, 0.95, n)) #metodo de la transformada inversa\n",
        "grid_y = norm.ppf(np.linspace(0.05, 0.95, n))\n",
        "\n",
        "for i, yi in enumerate(grid_x):\n",
        "    for j, xi in enumerate(grid_y):\n",
        "        z_sample = np.array([[xi, yi]])            \n",
        "        x_decoded = generator.predict(z_sample, batch_size=batch_size)\n",
        "        figure[i * image_size: (i + 1) * image_size,\n",
        "               j * image_size: (j + 1) * image_size] = x_decoded[0][:,:,0]\n",
        "        \n",
        "plt.figure(figsize=(10, 10))\n",
        "plt.imshow(figure,cmap='gnuplot2')\n",
        "pos = np.arange(image_size/2,image_size*n,image_size)\n",
        "plt.yticks(pos,np.round(grid_y,1))\n",
        "plt.xticks(pos,np.round(grid_x,1))\n",
        "plt.show()\n",
        "grid = norm.ppf(np.linspace(0.000005, 0.999995, n)) #en los extremos del intervalo de confianza"
      ],
      "execution_count": 0,
      "outputs": [
        {
          "output_type": "error",
          "ename": "ValueError",
          "evalue": "ignored",
          "traceback": [
            "\u001b[0;31m---------------------------------------------------------------------------\u001b[0m",
            "\u001b[0;31mValueError\u001b[0m                                Traceback (most recent call last)",
            "\u001b[0;32m<ipython-input-15-9d9c15483037>\u001b[0m in \u001b[0;36m<module>\u001b[0;34m()\u001b[0m\n\u001b[1;32m     18\u001b[0m     \u001b[0;32mfor\u001b[0m \u001b[0mj\u001b[0m\u001b[0;34m,\u001b[0m \u001b[0mxi\u001b[0m \u001b[0;32min\u001b[0m \u001b[0menumerate\u001b[0m\u001b[0;34m(\u001b[0m\u001b[0mgrid_y\u001b[0m\u001b[0;34m)\u001b[0m\u001b[0;34m:\u001b[0m\u001b[0;34m\u001b[0m\u001b[0;34m\u001b[0m\u001b[0m\n\u001b[1;32m     19\u001b[0m         \u001b[0mz_sample\u001b[0m \u001b[0;34m=\u001b[0m \u001b[0mnp\u001b[0m\u001b[0;34m.\u001b[0m\u001b[0marray\u001b[0m\u001b[0;34m(\u001b[0m\u001b[0;34m[\u001b[0m\u001b[0;34m[\u001b[0m\u001b[0mxi\u001b[0m\u001b[0;34m,\u001b[0m \u001b[0myi\u001b[0m\u001b[0;34m]\u001b[0m\u001b[0;34m]\u001b[0m\u001b[0;34m)\u001b[0m\u001b[0;34m\u001b[0m\u001b[0;34m\u001b[0m\u001b[0m\n\u001b[0;32m---> 20\u001b[0;31m         \u001b[0mx_decoded\u001b[0m \u001b[0;34m=\u001b[0m \u001b[0mgenerator\u001b[0m\u001b[0;34m.\u001b[0m\u001b[0mpredict\u001b[0m\u001b[0;34m(\u001b[0m\u001b[0mz_sample\u001b[0m\u001b[0;34m,\u001b[0m\u001b[0mbatch_size\u001b[0m\u001b[0;34m=\u001b[0m\u001b[0mbatch_size\u001b[0m\u001b[0;34m)\u001b[0m\u001b[0;34m\u001b[0m\u001b[0;34m\u001b[0m\u001b[0m\n\u001b[0m\u001b[1;32m     21\u001b[0m         figure[i * image_size: (i + 1) * image_size,\n\u001b[1;32m     22\u001b[0m                j * image_size: (j + 1) * image_size] = x_decoded[0][:,:,0]\n",
            "\u001b[0;32m/usr/local/lib/python3.6/dist-packages/keras/engine/training.py\u001b[0m in \u001b[0;36mpredict\u001b[0;34m(self, x, batch_size, verbose, steps)\u001b[0m\n\u001b[1;32m   1147\u001b[0m                              'argument.')\n\u001b[1;32m   1148\u001b[0m         \u001b[0;31m# Validate user data.\u001b[0m\u001b[0;34m\u001b[0m\u001b[0;34m\u001b[0m\u001b[0;34m\u001b[0m\u001b[0m\n\u001b[0;32m-> 1149\u001b[0;31m         \u001b[0mx\u001b[0m\u001b[0;34m,\u001b[0m \u001b[0m_\u001b[0m\u001b[0;34m,\u001b[0m \u001b[0m_\u001b[0m \u001b[0;34m=\u001b[0m \u001b[0mself\u001b[0m\u001b[0;34m.\u001b[0m\u001b[0m_standardize_user_data\u001b[0m\u001b[0;34m(\u001b[0m\u001b[0mx\u001b[0m\u001b[0;34m)\u001b[0m\u001b[0;34m\u001b[0m\u001b[0;34m\u001b[0m\u001b[0m\n\u001b[0m\u001b[1;32m   1150\u001b[0m         \u001b[0;32mif\u001b[0m \u001b[0mself\u001b[0m\u001b[0;34m.\u001b[0m\u001b[0mstateful\u001b[0m\u001b[0;34m:\u001b[0m\u001b[0;34m\u001b[0m\u001b[0;34m\u001b[0m\u001b[0m\n\u001b[1;32m   1151\u001b[0m             \u001b[0;32mif\u001b[0m \u001b[0mx\u001b[0m\u001b[0;34m[\u001b[0m\u001b[0;36m0\u001b[0m\u001b[0;34m]\u001b[0m\u001b[0;34m.\u001b[0m\u001b[0mshape\u001b[0m\u001b[0;34m[\u001b[0m\u001b[0;36m0\u001b[0m\u001b[0;34m]\u001b[0m \u001b[0;34m>\u001b[0m \u001b[0mbatch_size\u001b[0m \u001b[0;32mand\u001b[0m \u001b[0mx\u001b[0m\u001b[0;34m[\u001b[0m\u001b[0;36m0\u001b[0m\u001b[0;34m]\u001b[0m\u001b[0;34m.\u001b[0m\u001b[0mshape\u001b[0m\u001b[0;34m[\u001b[0m\u001b[0;36m0\u001b[0m\u001b[0;34m]\u001b[0m \u001b[0;34m%\u001b[0m \u001b[0mbatch_size\u001b[0m \u001b[0;34m!=\u001b[0m \u001b[0;36m0\u001b[0m\u001b[0;34m:\u001b[0m\u001b[0;34m\u001b[0m\u001b[0;34m\u001b[0m\u001b[0m\n",
            "\u001b[0;32m/usr/local/lib/python3.6/dist-packages/keras/engine/training.py\u001b[0m in \u001b[0;36m_standardize_user_data\u001b[0;34m(self, x, y, sample_weight, class_weight, check_array_lengths, batch_size)\u001b[0m\n\u001b[1;32m    749\u001b[0m             \u001b[0mfeed_input_shapes\u001b[0m\u001b[0;34m,\u001b[0m\u001b[0;34m\u001b[0m\u001b[0;34m\u001b[0m\u001b[0m\n\u001b[1;32m    750\u001b[0m             \u001b[0mcheck_batch_axis\u001b[0m\u001b[0;34m=\u001b[0m\u001b[0;32mFalse\u001b[0m\u001b[0;34m,\u001b[0m  \u001b[0;31m# Don't enforce the batch size.\u001b[0m\u001b[0;34m\u001b[0m\u001b[0;34m\u001b[0m\u001b[0m\n\u001b[0;32m--> 751\u001b[0;31m             exception_prefix='input')\n\u001b[0m\u001b[1;32m    752\u001b[0m \u001b[0;34m\u001b[0m\u001b[0m\n\u001b[1;32m    753\u001b[0m         \u001b[0;32mif\u001b[0m \u001b[0my\u001b[0m \u001b[0;32mis\u001b[0m \u001b[0;32mnot\u001b[0m \u001b[0;32mNone\u001b[0m\u001b[0;34m:\u001b[0m\u001b[0;34m\u001b[0m\u001b[0;34m\u001b[0m\u001b[0m\n",
            "\u001b[0;32m/usr/local/lib/python3.6/dist-packages/keras/engine/training_utils.py\u001b[0m in \u001b[0;36mstandardize_input_data\u001b[0;34m(data, names, shapes, check_batch_axis, exception_prefix)\u001b[0m\n\u001b[1;32m    136\u001b[0m                             \u001b[0;34m': expected '\u001b[0m \u001b[0;34m+\u001b[0m \u001b[0mnames\u001b[0m\u001b[0;34m[\u001b[0m\u001b[0mi\u001b[0m\u001b[0;34m]\u001b[0m \u001b[0;34m+\u001b[0m \u001b[0;34m' to have shape '\u001b[0m \u001b[0;34m+\u001b[0m\u001b[0;34m\u001b[0m\u001b[0;34m\u001b[0m\u001b[0m\n\u001b[1;32m    137\u001b[0m                             \u001b[0mstr\u001b[0m\u001b[0;34m(\u001b[0m\u001b[0mshape\u001b[0m\u001b[0;34m)\u001b[0m \u001b[0;34m+\u001b[0m \u001b[0;34m' but got array with shape '\u001b[0m \u001b[0;34m+\u001b[0m\u001b[0;34m\u001b[0m\u001b[0;34m\u001b[0m\u001b[0m\n\u001b[0;32m--> 138\u001b[0;31m                             str(data_shape))\n\u001b[0m\u001b[1;32m    139\u001b[0m     \u001b[0;32mreturn\u001b[0m \u001b[0mdata\u001b[0m\u001b[0;34m\u001b[0m\u001b[0;34m\u001b[0m\u001b[0m\n\u001b[1;32m    140\u001b[0m \u001b[0;34m\u001b[0m\u001b[0m\n",
            "\u001b[0;31mValueError\u001b[0m: Error when checking input: expected input_5 to have shape (10,) but got array with shape (2,)"
          ]
        }
      ]
    }
  ]
}